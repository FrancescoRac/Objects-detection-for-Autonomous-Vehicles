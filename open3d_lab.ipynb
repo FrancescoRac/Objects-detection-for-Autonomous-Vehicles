{
 "cells": [
  {
   "cell_type": "code",
   "execution_count": 7,
   "metadata": {},
   "outputs": [],
   "source": [
    "import sys\n",
    "\n",
    "sys.path.insert(0, 'my_utils.py')"
   ]
  },
  {
   "cell_type": "code",
   "execution_count": 8,
   "metadata": {},
   "outputs": [],
   "source": [
    "# /!\\ Before running the lab make sure every additional libraries is installed \n",
    "\n",
    "# Import local libraries\n",
    "from my_utils import *\n",
    "import time\n",
    "import numpy as np \n",
    "import open3d as o3d\n",
    "import einops\n",
    "import pyquaternion"
   ]
  },
  {
   "cell_type": "markdown",
   "metadata": {},
   "source": [
    "# Reading of one LiDAR scan"
   ]
  },
  {
   "cell_type": "code",
   "execution_count": 9,
   "metadata": {
    "scrolled": true
   },
   "outputs": [
    {
     "name": "stdout",
     "output_type": "stream",
     "text": [
      "ego_vehicle\n"
     ]
    }
   ],
   "source": [
    "n_frame = 0\n",
    "actor = 'ego_vehicle'\n",
    "\n",
    "points = get_point_cloud(n_frame, actor)\n",
    "\n",
    "pcd = o3d.geometry.PointCloud()\n",
    "pcd.points = o3d.utility.Vector3dVector(points)\n",
    "\n",
    "flag_display = True"
   ]
  },
  {
   "cell_type": "markdown",
   "metadata": {},
   "source": [
    "# Voxel Down sampling\n",
    "\n",
    "To reduce the number of points and accelerate the computation use the function _voxel_down_sample()_ of open3D."
   ]
  },
  {
   "cell_type": "code",
   "execution_count": 10,
   "metadata": {},
   "outputs": [],
   "source": [
    "downpcd = pcd.voxel_down_sample(voxel_size=0.005)\n",
    "\n",
    "if flag_display:\n",
    "    o3d.visualization.draw_geometries([downpcd])"
   ]
  },
  {
   "cell_type": "markdown",
   "metadata": {},
   "source": [
    "# Normals estimation\n",
    "We would like to detect opstacles, to do that the first step is to estimate normals to obtain the local orientation of the point cloud.\n",
    "\n",
    "Use the function _estimate_normals()_ of open3D to estimate this normals."
   ]
  },
  {
   "cell_type": "code",
   "execution_count": 11,
   "metadata": {},
   "outputs": [],
   "source": [
    "#ToDo estimate the normals\n",
    "\n",
    "downpcd.estimate_normals()\n",
    "\n",
    "if flag_display:\n",
    "    o3d.visualization.draw_geometries([downpcd], point_show_normal=True)"
   ]
  },
  {
   "cell_type": "code",
   "execution_count": 12,
   "metadata": {},
   "outputs": [],
   "source": [
    "downpcd.colors = o3d.utility.Vector3dVector(np.abs(np.array(downpcd.normals)))\n",
    "\n",
    "if flag_display:\n",
    "    o3d.visualization.draw_geometries([downpcd])"
   ]
  },
  {
   "cell_type": "markdown",
   "metadata": {},
   "source": [
    "# Ground and objects segmentation\n",
    "\n",
    "Based on the height of each point, the local orientation of the points cloud around this point and eventually the variation of this orientation filter the ground to obtain a new points cloud whith only the ground points and another one with only the objects on top of this ground.\n",
    "\n",
    "For both of these new points clouds you can also filter the points corresponding to the roof of the ego vehicle."
   ]
  },
  {
   "cell_type": "code",
   "execution_count": 13,
   "metadata": {},
   "outputs": [],
   "source": [
    "def ground_filtering(pcd):\n",
    "    threshold = 0.5\n",
    "    \n",
    "    points = np.asarray(pcd.points)\n",
    "    normals = np.asarray(pcd.normals)\n",
    "    \n",
    "    ground_points = []\n",
    "    \n",
    "    for i in range(len(points)):\n",
    "        if points[i][2] < threshold:\n",
    "            \n",
    "            ground_points.append(points[i])\n",
    "            \n",
    "    pcd_ground = o3d.geometry.PointCloud()\n",
    "    pcd_ground.points = o3d.utility.Vector3dVector(np.array(ground_points))\n",
    "    \n",
    "    return pcd_ground\n",
    "\n",
    "pcd_ground = ground_filtering(downpcd)\n",
    "\n",
    "if flag_display:\n",
    "    o3d.visualization.draw_geometries([pcd_ground])"
   ]
  },
  {
   "cell_type": "code",
   "execution_count": 8,
   "metadata": {},
   "outputs": [],
   "source": [
    "def objects_filtering(pcd):\n",
    "    threshold = 0.5\n",
    "    \n",
    "    points = np.asarray(pcd.points)\n",
    "    normals = np.asarray(pcd.normals)\n",
    "    \n",
    "    objects_points = []\n",
    "    \n",
    "    for i in range(len(points)):\n",
    "        if points[i][2] > threshold:\n",
    "            \n",
    "            objects_points.append(points[i])\n",
    "            \n",
    "    pcd_objects = o3d.geometry.PointCloud()\n",
    "    pcd_objects.points = o3d.utility.Vector3dVector(np.array(objects_points))\n",
    "    \n",
    "    return pcd_objects\n",
    "\n",
    "pcd_objects = objects_filtering(downpcd)\n",
    "\n",
    "if flag_display:\n",
    "    o3d.visualization.draw_geometries([pcd_objects])"
   ]
  },
  {
   "cell_type": "markdown",
   "metadata": {},
   "source": [
    "# Clustering\n",
    "\n",
    "Now that the points of the objects are not connected to the ground anymore we can regroup all the points of the same object on one cluster.\n",
    "\n",
    "To do that, use the function _cluster_dbscan()_ of open3D to obtain the cluster id for each point."
   ]
  },
  {
   "cell_type": "code",
   "execution_count": 9,
   "metadata": {},
   "outputs": [
    {
     "name": "stdout",
     "output_type": "stream",
     "text": [
      "The points cloud has 72 clusters\n"
     ]
    }
   ],
   "source": [
    "def clustering(pcd_objects):\n",
    "    \n",
    "    scan = pcd_objects.cluster_dbscan(1, 10)\n",
    "    \n",
    "    cluster_ids = np.array(scan)\n",
    "    \n",
    "    cluster_nb = cluster_ids.max()\n",
    "    colors = plt.get_cmap(\"tab20\")(cluster_ids / (cluster_nb if cluster_nb > 0 else 1))\n",
    "    colors[cluster_ids < 0] = 0\n",
    "    pcd_objects.colors = o3d.utility.Vector3dVector(colors[:, :3])\n",
    "    return pcd_objects, cluster_ids\n",
    "\n",
    "pcd_objects, cluster_ids = clustering(pcd_objects)\n",
    "\n",
    "print(\"The points cloud has\", cluster_ids.max() + 1, \"clusters\")\n",
    "\n",
    "if flag_display:\n",
    "    o3d.visualization.draw_geometries([pcd_objects])"
   ]
  },
  {
   "cell_type": "markdown",
   "metadata": {},
   "source": [
    "# Bounding Boxes estimation\n",
    "Estimate for each of these clusters its bounding box. You can use the function _get_axis_aligned_bounding_box()_ or _get_oriented_bounding_box()_ of open3D.\n",
    "\n",
    "What are the limits of these functions ?\n",
    "\n",
    "You can keep only the small bounding boxes correponding to the small objects (such as vehicles or pedestrians and not buildings)"
   ]
  },
  {
   "cell_type": "code",
   "execution_count": 107,
   "metadata": {},
   "outputs": [],
   "source": [
    "def cluster_boxes(pcd_objects, cluster_ids):\n",
    "    \n",
    "    boxes = []\n",
    "    max_box_size = 5\n",
    "    \n",
    "    # Get unique cluster IDs\n",
    "    unique_cluster_ids = np.unique(cluster_ids)\n",
    "    \n",
    "    # Iterate over each unique cluster ID\n",
    "    for cluster_id in unique_cluster_ids:\n",
    "        # Gather indices for points belonging to the current cluster\n",
    "        indices = []\n",
    "        for i, cid in enumerate(cluster_ids):\n",
    "            if cid == cluster_id:\n",
    "                indices.append(i)\n",
    "        \n",
    "        # Select points for the current cluster\n",
    "        cluster_points = pcd_objects.select_by_index(indices)\n",
    "        \n",
    "        # Get the axis-aligned bounding box for the selected cluster points\n",
    "        box = cluster_points.get_axis_aligned_bounding_box()\n",
    "        \n",
    "        # Get the size (width, height, depth) of the bounding box\n",
    "        box_size = box.get_extent()\n",
    "        \n",
    "        # Check if the bounding box meets the maximum size criteria\n",
    "        if max(box_size) <= max_box_size:\n",
    "            boxes.append(box)\n",
    "    \n",
    "    return boxes\n",
    "\n",
    "boxes = cluster_boxes(pcd_objects, cluster_ids)\n",
    "\n",
    "obj_to_display = boxes\n",
    "obj_to_display.append(pcd_objects)\n",
    "\n",
    "if flag_display:\n",
    "    o3d.visualization.draw_geometries(obj_to_display)\n",
    "    #o3d.visualization.draw_geometries([obj_to_display, boxes])"
   ]
  },
  {
   "cell_type": "markdown",
   "metadata": {},
   "source": [
    "# Objects detection and tracking on LiDAR scans\n",
    "\n",
    "Applied the previous functions on the different scan to estimate the bounding boxes.\n",
    "\n",
    "### Bounding boxes association\n",
    "\n",
    "Create a function to associate the bounding boxes of the current time to the one of the previous time based the shortest distances of there centers.\n",
    "\n",
    "### Bounding boxes orientation estimation\n",
    "Based on these association estimate the orientation of there motion to correct the orientation of the bounding boxes.\n",
    "\n",
    "### Points cloud mapping\n",
    "Build a map by accumulating the different points cloud and removing the moving objects (keep the cluster id and add a new one for the ground points)\n",
    "\n",
    "### Iterative Closest Point tracking\n",
    "To better associate the clusters you can also use the function _icp()_ of open3D on each cluster"
   ]
  },
  {
   "cell_type": "code",
   "execution_count": 110,
   "metadata": {
    "scrolled": true
   },
   "outputs": [
    {
     "name": "stdout",
     "output_type": "stream",
     "text": [
      "ego_vehicle\n",
      "ego_vehicle\n",
      "ego_vehicle\n",
      "ego_vehicle\n",
      "ego_vehicle\n",
      "ego_vehicle\n",
      "ego_vehicle\n",
      "ego_vehicle\n",
      "ego_vehicle\n",
      "ego_vehicle\n",
      "ego_vehicle\n",
      "ego_vehicle\n",
      "ego_vehicle\n",
      "[Open3D WARNING] [ViewControl] SetViewPoint() failed because window height and width are not set.\n",
      "ego_vehicle\n",
      "[Open3D WARNING] [ViewControl] SetViewPoint() failed because window height and width are not set.\n",
      "ego_vehicle\n",
      "[Open3D WARNING] [ViewControl] SetViewPoint() failed because window height and width are not set.\n",
      "ego_vehicle\n"
     ]
    },
    {
     "ename": "KeyboardInterrupt",
     "evalue": "",
     "output_type": "error",
     "traceback": [
      "\u001b[1;31m---------------------------------------------------------------------------\u001b[0m",
      "\u001b[1;31mKeyboardInterrupt\u001b[0m                         Traceback (most recent call last)",
      "Cell \u001b[1;32mIn[110], line 35\u001b[0m\n\u001b[0;32m     32\u001b[0m pcd_objects \u001b[38;5;241m=\u001b[39m objects_filtering(downpcd)\n\u001b[0;32m     34\u001b[0m \u001b[38;5;66;03m# Clustering\u001b[39;00m\n\u001b[1;32m---> 35\u001b[0m pcd_objects, cluster_ids \u001b[38;5;241m=\u001b[39m clustering(pcd_objects)\n\u001b[0;32m     37\u001b[0m \u001b[38;5;28;01mif\u001b[39;00m flag_display:\n\u001b[0;32m     38\u001b[0m     \u001b[38;5;66;03m# Clear previous geometries and add new point cloud to visualizer\u001b[39;00m\n\u001b[0;32m     39\u001b[0m     vis\u001b[38;5;241m.\u001b[39mclear_geometries()\n",
      "Cell \u001b[1;32mIn[9], line 5\u001b[0m, in \u001b[0;36mclustering\u001b[1;34m(pcd_objects)\u001b[0m\n\u001b[0;32m      1\u001b[0m \u001b[38;5;28;01mdef\u001b[39;00m \u001b[38;5;21mclustering\u001b[39m(pcd_objects):\n\u001b[0;32m      3\u001b[0m     scan \u001b[38;5;241m=\u001b[39m pcd_objects\u001b[38;5;241m.\u001b[39mcluster_dbscan(\u001b[38;5;241m1\u001b[39m, \u001b[38;5;241m10\u001b[39m)\n\u001b[1;32m----> 5\u001b[0m     cluster_ids \u001b[38;5;241m=\u001b[39m np\u001b[38;5;241m.\u001b[39marray(scan)\n\u001b[0;32m      7\u001b[0m     cluster_nb \u001b[38;5;241m=\u001b[39m cluster_ids\u001b[38;5;241m.\u001b[39mmax()\n\u001b[0;32m      8\u001b[0m     colors \u001b[38;5;241m=\u001b[39m plt\u001b[38;5;241m.\u001b[39mget_cmap(\u001b[38;5;124m\"\u001b[39m\u001b[38;5;124mtab20\u001b[39m\u001b[38;5;124m\"\u001b[39m)(cluster_ids \u001b[38;5;241m/\u001b[39m (cluster_nb \u001b[38;5;28;01mif\u001b[39;00m cluster_nb \u001b[38;5;241m>\u001b[39m \u001b[38;5;241m0\u001b[39m \u001b[38;5;28;01melse\u001b[39;00m \u001b[38;5;241m1\u001b[39m))\n",
      "\u001b[1;31mKeyboardInterrupt\u001b[0m: "
     ]
    }
   ],
   "source": [
    "# Initialize Open3D Visualizer\n",
    "if flag_display:\n",
    "    vis = o3d.visualization.Visualizer()\n",
    "    vis.create_window()\n",
    "\n",
    "for n_frame in range(nb_frames):\n",
    "    \n",
    "    # Read point cloud\n",
    "    points = get_point_cloud(n_frame, actor)\n",
    "    pcd = o3d.geometry.PointCloud()\n",
    "    pcd.points = o3d.utility.Vector3dVector(points)\n",
    "    \n",
    "    # Voxel down sampling\n",
    "    downpcd = pcd.voxel_down_sample(voxel_size=0.005)\n",
    "    \n",
    "    # Transform points cloud from the LiDAR to the world frame\n",
    "    tf = get_tf_lidar2world(actor, n_frame)\n",
    "    # ToDo applied this transformation to the points cloud\n",
    "    \n",
    "    # Estimate normals\n",
    "    #ToDo estimate the normals\n",
    "    downpcd.estimate_normals()\n",
    "    downpcd.colors = o3d.utility.Vector3dVector(np.abs(np.array(downpcd.normals)))\n",
    "    \n",
    "    # Filter ground points\n",
    "    pcd_ground = ground_filtering(downpcd)\n",
    "    \n",
    "    # Filter ground points\n",
    "    pcd_ground = ground_filtering(downpcd)\n",
    "    \n",
    "    # Filter objects points\n",
    "    pcd_objects = objects_filtering(downpcd)\n",
    "    \n",
    "    # Clustering\n",
    "    pcd_objects, cluster_ids = clustering(pcd_objects)\n",
    "    \n",
    "    if flag_display:\n",
    "        # Clear previous geometries and add new point cloud to visualizer\n",
    "        vis.clear_geometries()\n",
    "        vis.add_geometry(pcd_objects)\n",
    "        \n",
    "        # Update the visualizer to show the new point cloud\n",
    "        vis.poll_events()\n",
    "        vis.update_renderer()\n",
    "\n",
    "        # Wait before updating the points cloud (adjust time as needed)\n",
    "        time.sleep(0.1)\n",
    "\n",
    "if flag_display:\n",
    "    # Close the visualizer\n",
    "    vis.destroy_window()"
   ]
  },
  {
   "cell_type": "code",
   "execution_count": null,
   "metadata": {},
   "outputs": [],
   "source": []
  }
 ],
 "metadata": {
  "kernelspec": {
   "display_name": "Python 3 (ipykernel)",
   "language": "python",
   "name": "python3"
  },
  "language_info": {
   "codemirror_mode": {
    "name": "ipython",
    "version": 3
   },
   "file_extension": ".py",
   "mimetype": "text/x-python",
   "name": "python",
   "nbconvert_exporter": "python",
   "pygments_lexer": "ipython3",
   "version": "3.11.5"
  }
 },
 "nbformat": 4,
 "nbformat_minor": 2
}
